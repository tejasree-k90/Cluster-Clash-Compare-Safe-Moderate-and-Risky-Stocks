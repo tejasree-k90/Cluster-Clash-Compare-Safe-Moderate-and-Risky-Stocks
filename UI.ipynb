{
  "nbformat": 4,
  "nbformat_minor": 0,
  "metadata": {
    "colab": {
      "provenance": [],
      "authorship_tag": "ABX9TyOsP+kYbK/C2S+kDSGRX6is",
      "include_colab_link": true
    },
    "kernelspec": {
      "name": "python3",
      "display_name": "Python 3"
    },
    "language_info": {
      "name": "python"
    }
  },
  "cells": [
    {
      "cell_type": "markdown",
      "metadata": {
        "id": "view-in-github",
        "colab_type": "text"
      },
      "source": [
        "<a href=\"https://colab.research.google.com/github/tejasree-k90/Cluster-Clash-Compare-Safe-Moderate-and-Risky-Stocks/blob/main/UI.ipynb\" target=\"_parent\"><img src=\"https://colab.research.google.com/assets/colab-badge.svg\" alt=\"Open In Colab\"/></a>"
      ]
    },
    {
      "source": [
        "!pip install gradio"
      ],
      "cell_type": "code",
      "metadata": {
        "collapsed": true,
        "id": "KPXIDLO9rZEH"
      },
      "execution_count": null,
      "outputs": []
    },
    {
      "cell_type": "code",
      "source": [
        "import pandas as pd\n",
        "import gradio as gr\n",
        "\n",
        "# Load ESG data\n",
        "df = pd.read_csv(\"sp500_esg_data_latest.csv\")\n",
        "df['Company_lower'] = df['Full Name'].astype(str).str.lower()\n",
        "df['Symbol_lower'] = df['Symbol'].astype(str).str.lower()\n",
        "\n",
        "def classify_company(input_text):\n",
        "    input_text = input_text.strip().lower()\n",
        "\n",
        "    # Match by company name or symbol\n",
        "    match = df[(df['Company_lower'].str.contains(input_text)) |\n",
        "               (df['Symbol_lower'].str.contains(input_text))]\n",
        "\n",
        "    if match.empty:\n",
        "        return \"❌ Company not found in ESG dataset.\"\n",
        "\n",
        "    row = match.iloc[0]\n",
        "    esg_score = row['overallRisk']\n",
        "\n",
        "    # Classify into category\n",
        "    if esg_score > 7:       #7-10 == Risk\n",
        "        category = \"🟥 Risk\"\n",
        "    elif esg_score > 4:    #4-6 == moderate\n",
        "        category = \"🟨 Moderate\"\n",
        "    else:                    # 1 -3 == Safe\n",
        "        category = \"🟩 Safe for Investment\"\n",
        "\n",
        "    return f\"\"\"\n",
        "✅ **Company:** {row['Full Name']}\n",
        "📈 **Symbol:** {row['Symbol']}\n",
        "🌿 **ESG Score:** {esg_score} \\n\n",
        "📊 **Category:** {category} \\n\n",
        "**overallRisk:** {row['overallRisk']} \\n\n",
        "**totalEsg:** {row['totalEsg']}\n",
        "\"\"\"\n",
        "\n",
        "# Gradio UI\n",
        "gr.Interface(\n",
        "    fn=classify_company,\n",
        "    inputs=gr.Textbox(label=\"Enter Company Name or Symbol\"),\n",
        "    outputs=gr.Markdown(),\n",
        "    title=\"🌱 ESG Investment Risk Classifier\",\n",
        "    description=\"Check if a company is Risky, Moderate, or Safe based on ESG score (from totalEsg).\"\n",
        ").launch()"
      ],
      "metadata": {
        "colab": {
          "base_uri": "https://localhost:8080/",
          "height": 645
        },
        "id": "5IQAHMCFtxUf",
        "outputId": "0829adf5-51a6-424a-ca37-5b96ccf5fb1a"
      },
      "execution_count": null,
      "outputs": [
        {
          "output_type": "stream",
          "name": "stdout",
          "text": [
            "It looks like you are running Gradio on a hosted a Jupyter notebook. For the Gradio app to work, sharing must be enabled. Automatically setting `share=True` (you can turn this off by setting `share=False` in `launch()` explicitly).\n",
            "\n",
            "Colab notebook detected. To show errors in colab notebook, set debug=True in launch()\n",
            "* Running on public URL: https://4858fda732f6b16882.gradio.live\n",
            "\n",
            "This share link expires in 1 week. For free permanent hosting and GPU upgrades, run `gradio deploy` from the terminal in the working directory to deploy to Hugging Face Spaces (https://huggingface.co/spaces)\n"
          ]
        },
        {
          "output_type": "display_data",
          "data": {
            "text/plain": [
              "<IPython.core.display.HTML object>"
            ],
            "text/html": [
              "<div><iframe src=\"https://4858fda732f6b16882.gradio.live\" width=\"100%\" height=\"500\" allow=\"autoplay; camera; microphone; clipboard-read; clipboard-write;\" frameborder=\"0\" allowfullscreen></iframe></div>"
            ]
          },
          "metadata": {}
        },
        {
          "output_type": "execute_result",
          "data": {
            "text/plain": []
          },
          "metadata": {},
          "execution_count": 4
        }
      ]
    },
    {
      "cell_type": "code",
      "source": [],
      "metadata": {
        "id": "hG3ORKSovi86"
      },
      "execution_count": null,
      "outputs": []
    }
  ]
}